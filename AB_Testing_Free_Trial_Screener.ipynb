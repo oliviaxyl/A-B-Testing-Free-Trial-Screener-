{
 "cells": [
  {
   "cell_type": "code",
   "execution_count": 1,
   "metadata": {},
   "outputs": [],
   "source": [
    "import warnings\n",
    "warnings.filterwarnings(\"ignore\")\n",
    "\n",
    "import pandas as pd\n",
    "import matplotlib.pyplot as plt\n",
    "import numpy as np\n",
    "import math"
   ]
  },
  {
   "cell_type": "markdown",
   "metadata": {},
   "source": [
    "### Metric Choice\n",
    "\n",
    "- Number of cookies: That is, number of unique cookies to view the course overview page. (dmin=3000)\n",
    "- Number of user-ids: That is, number of users who enroll in the free trial. (dmin=50)\n",
    "- Number of clicks: That is, number of unique cookies to click the \"Start free trial\" button (which happens before the free trial screener is trigger). (dmin=240)\n",
    "- Click-through-probability: That is, number of unique cookies to click the \"Start free trial\" button divided by number of unique cookies to view the course overview page. (dmin=0.01)\n",
    "- Gross conversion: That is, number of user-ids to complete checkout and enroll in the free trial divided by number of unique cookies to click the \"Start free trial\" button. (dmin= 0.01)\n",
    "- Retention: That is, number of user-ids to remain enrolled past the 14-day boundary (and thus make at least one payment) divided by number of user-ids to complete checkout. (dmin=0.01)\n",
    "- Net conversion: That is, number of user-ids to remain enrolled past the 14-day boundary (and thus make at least one payment) divided by the number of unique cookies to click the \"Start free trial\" button. (dmin= 0.0075)\n",
    "\n",
    "#### Invariant metrics\n",
    "\n",
    "- Number of cookies \n",
    "- Number of clicks \n",
    "- Click-through probability \n",
    "\n",
    "####  Evaluation metrics\n",
    "\n",
    "- Gross conversion\n",
    "- Retention\n",
    "- Net conversion"
   ]
  },
  {
   "cell_type": "markdown",
   "metadata": {},
   "source": [
    "#### The goals of the experiment in terms of our metrics:\n",
    "\n",
    "- The gross conversion should significantly decrease.\n",
    "- The retention should significantly increase.\n",
    "- The net conversion should not decrease.\n"
   ]
  },
  {
   "attachments": {},
   "cell_type": "markdown",
   "metadata": {},
   "source": [
    "### Measuring Variability\n",
    "\n",
    "Final Project Baseline Values:\n",
    "\n",
    "- Unique cookies to view course overview page per day:\t40000\n",
    "- Unique cookies to click \"Start free trial\" per day:\t3200\n",
    "- Enrollments per day:\t660\n",
    "- Click-through-probability on \"Start free trial\":\t0.08\n",
    "- Probability of enrolling, given click:\t0.20625\n",
    "- Probability of payment, given enroll:\t0.53\n",
    "- Probability of payment, given click:\t0.1093125"
   ]
  },
  {
   "cell_type": "markdown",
   "metadata": {},
   "source": [
    "### Sizing\n",
    "\n",
    "Significant Power = 80% \\\n",
    "Significant level = 5%\n",
    "\n",
    "(Notes: I have used the online calculator https://www.evanmiller.org/ab-testing/sample-size.html)\n",
    "\n",
    "\n",
    "#### Gross conversion\n",
    "\n",
    "- Baseline conversion rate: 0.20625\n",
    "- Minimal detectable effect: 0.01\n",
    "- 25,835 clicks per variation\n",
    "- Number of pageviews needed for gross conversion: 2 × 25835 × 40000 ÷ 3200 =  645875.0\n",
    "\n",
    "#### Retention\n",
    "\n",
    "- Baseline conversion rate: 0.53\n",
    "- Minimal detectable effect: 0.01\n",
    "- 39,115 clicks per enroll\n",
    "- Number of pageviews needed for retention: 2 × 39115 × 40000 ÷ 660 =  4741212.12121\n",
    "\n",
    "#### Net conversion\n",
    "\n",
    "- Baseline conversion rate: 0.1093125\n",
    "- Minimal detectable effect: 0.0075\n",
    "- 27,413 clicks per variation\n",
    "- Number of pageviews needed for net conversion: 2 × 27413 × 40000 ÷ 3200 =  685325.0\n"
   ]
  },
  {
   "cell_type": "markdown",
   "metadata": {},
   "source": [
    "### Duration vs. Exposure\n",
    "\n",
    "- Duration to test three metrics: 4741212 / 40000 = 118 days\n",
    "\n",
    "- Duration to test two metrics (gross conversion and net conversion): 685325 / 40000 = 17 days\n",
    "\n",
    "It takes 118 days to test all three metrics with 100% traffic level, which is too long. If we only test two metrics, we can use the period 17 days with full traffic, but it gives us the result too quickly. The behavior of people could be rarely detected in a short time period for 2-3 weeks. To slightly increase the time interval, we can set the percentage of used traffic at 50 (fraction = 0.5) and it gives us the number: 34 days."
   ]
  },
  {
   "cell_type": "code",
   "execution_count": 43,
   "metadata": {},
   "outputs": [],
   "source": [
    "# Data 'Free Trial Screener' is obatained from Udacity A/B Testing Final Project\n",
    "# Read in control and experimental groups separately \n",
    "\n",
    "control_data = pd.read_csv('/Users/olivia/Desktop/AB Testing/Final_Project_Results_Control.csv')\n",
    "experiment_data = pd.read_csv('/Users/olivia/Desktop/AB Testing/Final_Project_Results_Experiment.csv')\n",
    "control_data2 = control_data[:23]\n",
    "experiment_data2 = experiment_data[:23]"
   ]
  },
  {
   "cell_type": "code",
   "execution_count": 3,
   "metadata": {},
   "outputs": [
    {
     "data": {
      "text/html": [
       "<div>\n",
       "<style scoped>\n",
       "    .dataframe tbody tr th:only-of-type {\n",
       "        vertical-align: middle;\n",
       "    }\n",
       "\n",
       "    .dataframe tbody tr th {\n",
       "        vertical-align: top;\n",
       "    }\n",
       "\n",
       "    .dataframe thead th {\n",
       "        text-align: right;\n",
       "    }\n",
       "</style>\n",
       "<table border=\"1\" class=\"dataframe\">\n",
       "  <thead>\n",
       "    <tr style=\"text-align: right;\">\n",
       "      <th></th>\n",
       "      <th>Date</th>\n",
       "      <th>Pageviews</th>\n",
       "      <th>Clicks</th>\n",
       "      <th>Enrollments</th>\n",
       "      <th>Payments</th>\n",
       "    </tr>\n",
       "  </thead>\n",
       "  <tbody>\n",
       "    <tr>\n",
       "      <td>0</td>\n",
       "      <td>Sat, Oct 11</td>\n",
       "      <td>7723.0</td>\n",
       "      <td>687.0</td>\n",
       "      <td>134.0</td>\n",
       "      <td>70.0</td>\n",
       "    </tr>\n",
       "    <tr>\n",
       "      <td>1</td>\n",
       "      <td>Sun, Oct 12</td>\n",
       "      <td>9102.0</td>\n",
       "      <td>779.0</td>\n",
       "      <td>147.0</td>\n",
       "      <td>70.0</td>\n",
       "    </tr>\n",
       "    <tr>\n",
       "      <td>2</td>\n",
       "      <td>Mon, Oct 13</td>\n",
       "      <td>10511.0</td>\n",
       "      <td>909.0</td>\n",
       "      <td>167.0</td>\n",
       "      <td>95.0</td>\n",
       "    </tr>\n",
       "  </tbody>\n",
       "</table>\n",
       "</div>"
      ],
      "text/plain": [
       "          Date  Pageviews  Clicks  Enrollments  Payments\n",
       "0  Sat, Oct 11     7723.0   687.0        134.0      70.0\n",
       "1  Sun, Oct 12     9102.0   779.0        147.0      70.0\n",
       "2  Mon, Oct 13    10511.0   909.0        167.0      95.0"
      ]
     },
     "execution_count": 3,
     "metadata": {},
     "output_type": "execute_result"
    }
   ],
   "source": [
    "control_data2.head(3)"
   ]
  },
  {
   "cell_type": "code",
   "execution_count": 4,
   "metadata": {},
   "outputs": [
    {
     "data": {
      "text/html": [
       "<div>\n",
       "<style scoped>\n",
       "    .dataframe tbody tr th:only-of-type {\n",
       "        vertical-align: middle;\n",
       "    }\n",
       "\n",
       "    .dataframe tbody tr th {\n",
       "        vertical-align: top;\n",
       "    }\n",
       "\n",
       "    .dataframe thead th {\n",
       "        text-align: right;\n",
       "    }\n",
       "</style>\n",
       "<table border=\"1\" class=\"dataframe\">\n",
       "  <thead>\n",
       "    <tr style=\"text-align: right;\">\n",
       "      <th></th>\n",
       "      <th>Date</th>\n",
       "      <th>Pageviews</th>\n",
       "      <th>Clicks</th>\n",
       "      <th>Enrollments</th>\n",
       "      <th>Payments</th>\n",
       "    </tr>\n",
       "  </thead>\n",
       "  <tbody>\n",
       "    <tr>\n",
       "      <td>0</td>\n",
       "      <td>Sat, Oct 11</td>\n",
       "      <td>7716.0</td>\n",
       "      <td>686.0</td>\n",
       "      <td>105.0</td>\n",
       "      <td>34.0</td>\n",
       "    </tr>\n",
       "    <tr>\n",
       "      <td>1</td>\n",
       "      <td>Sun, Oct 12</td>\n",
       "      <td>9288.0</td>\n",
       "      <td>785.0</td>\n",
       "      <td>116.0</td>\n",
       "      <td>91.0</td>\n",
       "    </tr>\n",
       "    <tr>\n",
       "      <td>2</td>\n",
       "      <td>Mon, Oct 13</td>\n",
       "      <td>10480.0</td>\n",
       "      <td>884.0</td>\n",
       "      <td>145.0</td>\n",
       "      <td>79.0</td>\n",
       "    </tr>\n",
       "  </tbody>\n",
       "</table>\n",
       "</div>"
      ],
      "text/plain": [
       "          Date  Pageviews  Clicks  Enrollments  Payments\n",
       "0  Sat, Oct 11     7716.0   686.0        105.0      34.0\n",
       "1  Sun, Oct 12     9288.0   785.0        116.0      91.0\n",
       "2  Mon, Oct 13    10480.0   884.0        145.0      79.0"
      ]
     },
     "execution_count": 4,
     "metadata": {},
     "output_type": "execute_result"
    }
   ],
   "source": [
    "experiment_data2.head(3)"
   ]
  },
  {
   "cell_type": "markdown",
   "metadata": {},
   "source": [
    "#### Desctriptions:\n",
    "\n",
    "- Pageviews: Number of unique cookies to view the course overview page that day.\n",
    "- Clicks: Number of unique cookies to click the course overview page that day.\n",
    "- Enrollments: Number of user-ids to enroll in the free trial that day.\n",
    "- Payments: Number of user-ids who who enrolled on that day to remain enrolled for 14 days and thus make a payment.\n",
    "\n",
    "(Note that the date for this column is the start date, that is, the date of enrollment, rather than the date of the payment. The payment happened 14 days later. Because of this, the enrollments and payments are tracked for 14 fewer days than the other columns.)"
   ]
  },
  {
   "cell_type": "code",
   "execution_count": 5,
   "metadata": {},
   "outputs": [],
   "source": [
    "# Combining Actual Data with simulated noise\n",
    "\n",
    "def add_noise(data):\n",
    "    data['Pageviews'] = data['Pageviews']+ np.random.normal(0,100,23).astype(int)\n",
    "    data['Clicks'] = data['Clicks']+ np.random.normal(0,50,23).astype(int)\n",
    "    data['Enrollments'] = data['Enrollments']+ np.random.normal(0,10,23).astype(int)\n",
    "    data['Payments'] = data['Payments']+ np.random.normal(0,5,23).astype(int)\n",
    "    return data\n",
    "\n",
    "control_data2 = add_noise(control_data2)\n",
    "experiment_data2 = add_noise(experiment_data2)"
   ]
  },
  {
   "cell_type": "code",
   "execution_count": 6,
   "metadata": {},
   "outputs": [
    {
     "name": "stdout",
     "output_type": "stream",
     "text": [
      "Control data with random noise:\n"
     ]
    },
    {
     "data": {
      "text/html": [
       "<div>\n",
       "<style scoped>\n",
       "    .dataframe tbody tr th:only-of-type {\n",
       "        vertical-align: middle;\n",
       "    }\n",
       "\n",
       "    .dataframe tbody tr th {\n",
       "        vertical-align: top;\n",
       "    }\n",
       "\n",
       "    .dataframe thead th {\n",
       "        text-align: right;\n",
       "    }\n",
       "</style>\n",
       "<table border=\"1\" class=\"dataframe\">\n",
       "  <thead>\n",
       "    <tr style=\"text-align: right;\">\n",
       "      <th></th>\n",
       "      <th>Date</th>\n",
       "      <th>Pageviews</th>\n",
       "      <th>Clicks</th>\n",
       "      <th>Enrollments</th>\n",
       "      <th>Payments</th>\n",
       "    </tr>\n",
       "  </thead>\n",
       "  <tbody>\n",
       "    <tr>\n",
       "      <td>0</td>\n",
       "      <td>Sat, Oct 11</td>\n",
       "      <td>7781.0</td>\n",
       "      <td>705.0</td>\n",
       "      <td>140.0</td>\n",
       "      <td>69.0</td>\n",
       "    </tr>\n",
       "    <tr>\n",
       "      <td>1</td>\n",
       "      <td>Sun, Oct 12</td>\n",
       "      <td>9192.0</td>\n",
       "      <td>651.0</td>\n",
       "      <td>156.0</td>\n",
       "      <td>71.0</td>\n",
       "    </tr>\n",
       "    <tr>\n",
       "      <td>2</td>\n",
       "      <td>Mon, Oct 13</td>\n",
       "      <td>10422.0</td>\n",
       "      <td>926.0</td>\n",
       "      <td>176.0</td>\n",
       "      <td>96.0</td>\n",
       "    </tr>\n",
       "  </tbody>\n",
       "</table>\n",
       "</div>"
      ],
      "text/plain": [
       "          Date  Pageviews  Clicks  Enrollments  Payments\n",
       "0  Sat, Oct 11     7781.0   705.0        140.0      69.0\n",
       "1  Sun, Oct 12     9192.0   651.0        156.0      71.0\n",
       "2  Mon, Oct 13    10422.0   926.0        176.0      96.0"
      ]
     },
     "execution_count": 6,
     "metadata": {},
     "output_type": "execute_result"
    }
   ],
   "source": [
    "print('Control data with random noise:')\n",
    "control_data2.head(3)"
   ]
  },
  {
   "cell_type": "code",
   "execution_count": 7,
   "metadata": {},
   "outputs": [
    {
     "name": "stdout",
     "output_type": "stream",
     "text": [
      "Experiment data with random noise:\n"
     ]
    },
    {
     "data": {
      "text/html": [
       "<div>\n",
       "<style scoped>\n",
       "    .dataframe tbody tr th:only-of-type {\n",
       "        vertical-align: middle;\n",
       "    }\n",
       "\n",
       "    .dataframe tbody tr th {\n",
       "        vertical-align: top;\n",
       "    }\n",
       "\n",
       "    .dataframe thead th {\n",
       "        text-align: right;\n",
       "    }\n",
       "</style>\n",
       "<table border=\"1\" class=\"dataframe\">\n",
       "  <thead>\n",
       "    <tr style=\"text-align: right;\">\n",
       "      <th></th>\n",
       "      <th>Date</th>\n",
       "      <th>Pageviews</th>\n",
       "      <th>Clicks</th>\n",
       "      <th>Enrollments</th>\n",
       "      <th>Payments</th>\n",
       "    </tr>\n",
       "  </thead>\n",
       "  <tbody>\n",
       "    <tr>\n",
       "      <td>0</td>\n",
       "      <td>Sat, Oct 11</td>\n",
       "      <td>7738.0</td>\n",
       "      <td>607.0</td>\n",
       "      <td>100.0</td>\n",
       "      <td>39.0</td>\n",
       "    </tr>\n",
       "    <tr>\n",
       "      <td>1</td>\n",
       "      <td>Sun, Oct 12</td>\n",
       "      <td>9606.0</td>\n",
       "      <td>828.0</td>\n",
       "      <td>109.0</td>\n",
       "      <td>92.0</td>\n",
       "    </tr>\n",
       "    <tr>\n",
       "      <td>2</td>\n",
       "      <td>Mon, Oct 13</td>\n",
       "      <td>10562.0</td>\n",
       "      <td>959.0</td>\n",
       "      <td>149.0</td>\n",
       "      <td>75.0</td>\n",
       "    </tr>\n",
       "  </tbody>\n",
       "</table>\n",
       "</div>"
      ],
      "text/plain": [
       "          Date  Pageviews  Clicks  Enrollments  Payments\n",
       "0  Sat, Oct 11     7738.0   607.0        100.0      39.0\n",
       "1  Sun, Oct 12     9606.0   828.0        109.0      92.0\n",
       "2  Mon, Oct 13    10562.0   959.0        149.0      75.0"
      ]
     },
     "execution_count": 7,
     "metadata": {},
     "output_type": "execute_result"
    }
   ],
   "source": [
    "print('Experiment data with random noise:')\n",
    "experiment_data2.head(3)"
   ]
  },
  {
   "cell_type": "markdown",
   "metadata": {},
   "source": [
    "### First step, sanity check.\n",
    "\n",
    "Before analyzing result, the first step is to do sanity check — check if your invariant metrics have changed. If your sanity check failed, do not proceed. Instead, go analyze why your sanity check failed. You can do either: (1) retrospective analysis, or (2) look into if there’s learning effect."
   ]
  },
  {
   "cell_type": "code",
   "execution_count": 8,
   "metadata": {},
   "outputs": [
    {
     "name": "stdout",
     "output_type": "stream",
     "text": [
      "Control group:\n",
      "Clicks =  28494.0     Pageviews =  345439.0\n",
      "Experimental group:\n",
      "Clicks =  28239.0     Pageviews =  345196.0\n"
     ]
    }
   ],
   "source": [
    "Pageviews_cont = control_data['Pageviews'].sum()\n",
    "Pageviews_exp = experiment_data['Pageviews'].sum()\n",
    "\n",
    "Clicks_cont = control_data['Clicks'].sum()\n",
    "Clicks_exp = experiment_data['Clicks'].sum()\n",
    "\n",
    "\n",
    "print (\"Control group:\")\n",
    "print (\"Clicks = \", Clicks_cont, \"   \", \\\n",
    "      \"Pageviews = \", Pageviews_cont)\n",
    "\n",
    "print (\"Experimental group:\")\n",
    "print (\"Clicks = \", Clicks_exp, \"   \", \\\n",
    "      \"Pageviews = \", Pageviews_exp)"
   ]
  },
  {
   "cell_type": "markdown",
   "metadata": {},
   "source": [
    "#### Sanity Checks -> Cookies "
   ]
  },
  {
   "cell_type": "code",
   "execution_count": 9,
   "metadata": {},
   "outputs": [
    {
     "name": "stdout",
     "output_type": "stream",
     "text": [
      "Sanity Test (Cookies): p̂ = 0.5001759250544788 ∈ (0.4988207611357565, 0.5011792388642435) ✓\n"
     ]
    }
   ],
   "source": [
    "p = 0.5 \n",
    "\n",
    "se_cookies = math.sqrt(p * p / (Pageviews_cont + Pageviews_exp))\n",
    "m_cookies = se_cookies * 1.96\n",
    "(lb_cookies, ub_cookies) = (p - m_cookies, p + m_cookies)\n",
    "p_hat = Pageviews_cont/(Pageviews_cont + Pageviews_exp)\n",
    "print (\"Sanity Test (Cookies):\", u'p\\u0302', \"=\",p_hat , u'\\u2208', (lb_cookies, ub_cookies), u'\\u2713')"
   ]
  },
  {
   "cell_type": "markdown",
   "metadata": {},
   "source": [
    "#### Sanity Checks -> Clicks"
   ]
  },
  {
   "cell_type": "code",
   "execution_count": 10,
   "metadata": {},
   "outputs": [
    {
     "name": "stdout",
     "output_type": "stream",
     "text": [
      "Sanity Test (Clicks): p̂ = 0.5022473692559886 ∈ (0.4958855839921207, 0.5041144160078793) ✓\n"
     ]
    }
   ],
   "source": [
    "se_clicks = math.sqrt(p * p / (Clicks_cont + Clicks_exp))\n",
    "m_clicks = se_clicks * 1.96\n",
    "(lb_clicks, ub_clicks) = (p - m_clicks, p + m_clicks)\n",
    "p_hat = Clicks_cont/(Clicks_cont + Clicks_exp)\n",
    "\n",
    "print (\"Sanity Test (Clicks):\", u'p\\u0302', \"=\", p_hat, u'\\u2208', (lb_clicks, ub_clicks), u'\\u2713')"
   ]
  },
  {
   "cell_type": "markdown",
   "metadata": {},
   "source": [
    "#### Sanity Checks -> Click-Through-Probability (CTP)"
   ]
  },
  {
   "cell_type": "code",
   "execution_count": 11,
   "metadata": {},
   "outputs": [
    {
     "name": "stdout",
     "output_type": "stream",
     "text": [
      "Sanity Test (CTP): p̂ = 0.0006806446729920174 ∈ (-0.0012952158606468556, 0.0012952158606468556) ✓\n"
     ]
    }
   ],
   "source": [
    "p_pool = 1.0 * (Clicks_cont + Clicks_exp) / (Pageviews_cont + Pageviews_exp)\n",
    "se_pool = math.sqrt(p_pool * (1 - p_pool) * (1.0 / Pageviews_cont + 1.0 / Pageviews_exp))\n",
    "m_pool = se_pool * 1.96\n",
    "d_hat = Clicks_cont / Pageviews_cont - Clicks_exp / Pageviews_exp\n",
    "(lb_pool, ub_pool) = (0 - m_pool, 0 + m_pool)\n",
    "print (\"Sanity Test (CTP):\", u'p\\u0302', \"=\", d_hat, u'\\u2208', (lb_pool, ub_pool), u'\\u2713')"
   ]
  },
  {
   "cell_type": "markdown",
   "metadata": {},
   "source": [
    "### Results Analysis"
   ]
  },
  {
   "cell_type": "code",
   "execution_count": 12,
   "metadata": {},
   "outputs": [
    {
     "name": "stdout",
     "output_type": "stream",
     "text": [
      "Control group:\n",
      "Clicks =  17409.0     Enrollments =  3804.0     Payments =  2021.0\n",
      "Experimental group:\n",
      "Clicks =  17174.0     Enrollments =  3347.0     Payments =  1971.0\n"
     ]
    }
   ],
   "source": [
    "Clicks_cont = control_data2['Clicks'].sum()\n",
    "Clicks_exp = experiment_data2['Clicks'].sum()\n",
    "\n",
    "Enrollments_cont = control_data2['Enrollments'].sum()\n",
    "Enrollments_exp = experiment_data2['Enrollments'].sum()\n",
    "\n",
    "Payments_cont = control_data2['Payments'].sum()\n",
    "Payments_exp = experiment_data2['Payments'].sum()\n",
    "\n",
    "print (\"Control group:\")\n",
    "print (\"Clicks = \", Clicks_cont, \"   \", \\\n",
    "\"Enrollments = \", Enrollments_cont, \"   \", \\\n",
    "\"Payments = \", Payments_cont)\n",
    "\n",
    "\n",
    "print (\"Experimental group:\")\n",
    "print (\"Clicks = \", Clicks_exp, \"   \", \\\n",
    "\"Enrollments = \", Enrollments_exp, \"   \", \\\n",
    "\"Payments = \", Payments_exp)"
   ]
  },
  {
   "cell_type": "markdown",
   "metadata": {},
   "source": [
    "#### Result Analysis -> Gross Conversion"
   ]
  },
  {
   "cell_type": "code",
   "execution_count": 22,
   "metadata": {},
   "outputs": [
    {
     "name": "stdout",
     "output_type": "stream",
     "text": [
      "0 ∉ (0.015082871873568143, 0.032157223376795344)\n",
      "(-0.01, 0, 0.01) ⊄ (0.015082871873568143, 0.032157223376795344)\n",
      "Statistical significance ✓   Practical significance  ✓\n"
     ]
    }
   ],
   "source": [
    "p_pool = 1.0 * (Enrollments_cont + Enrollments_exp) / (Clicks_cont+Clicks_exp)\n",
    "se_pool = math.sqrt(p_pool * (1 - p_pool) * (1.0 / Clicks_cont + 1.0 / Clicks_exp))\n",
    "m_pool = se_pool * 1.96\n",
    "d = Enrollments_cont / Clicks_cont - Enrollments_exp / Clicks_exp\n",
    "(lb_pool, ub_pool) = (d - m_pool, d + m_pool)\n",
    "\n",
    "print (0, u'\\u2209', (lb_pool, ub_pool))\n",
    "print ((-0.01, 0, 0.01), u'\\u2284', (lb_pool, ub_pool))\n",
    "print (\"Statistical significance\", u'\\u2713', \"  Practical significance \", u'\\u2713')"
   ]
  },
  {
   "cell_type": "markdown",
   "metadata": {},
   "source": [
    "#### Result Analysis -> Net Conversion"
   ]
  },
  {
   "cell_type": "code",
   "execution_count": 44,
   "metadata": {},
   "outputs": [
    {
     "name": "stdout",
     "output_type": "stream",
     "text": [
      "0 ∈ (-0.005413006265008506, 0.008058749355919152)\n",
      "0.0075 ⊂ (-0.005413006265008506, 0.008058749355919152)\n",
      "Statistical significance ✘   Practical significance  ✘\n"
     ]
    }
   ],
   "source": [
    "p_pool = 1.0 * (Payments_cont + Payments_exp) / (Clicks_cont+Clicks_exp)\n",
    "se_pool = math.sqrt(p_pool * (1 - p_pool) * (1.0 / Clicks_cont + 1.0 / Clicks_exp))\n",
    "m_pool = se_pool * 1.96\n",
    "d = Payments_cont / Clicks_cont - Payments_exp / Clicks_exp\n",
    "(lb_pool, ub_pool) = (d - m_pool, d + m_pool)\n",
    "\n",
    "print (0, u'\\u2208', (lb_pool, ub_pool))\n",
    "print (0.0075, u'\\u2282', (lb_pool, ub_pool))\n",
    "print (\"Statistical significance\", u'\\u2718', \"  Practical significance \", u'\\u2718')"
   ]
  },
  {
   "cell_type": "markdown",
   "metadata": {},
   "source": [
    "### Sign Tests\n",
    "\n",
    "#### Binomial Test: \n",
    "$ Pr(X=k)={\\binom {n}{k}}p^{k}(1-p)^{n-k} $\n",
    "\n",
    "(Notes: I used QuickCalcs: https://www.graphpad.com/quickcalcs/binomial1/ for sign and binomial test Test)"
   ]
  },
  {
   "cell_type": "markdown",
   "metadata": {},
   "source": [
    "#### Sign test -> Gross conversion & Net conversion"
   ]
  },
  {
   "cell_type": "code",
   "execution_count": 27,
   "metadata": {},
   "outputs": [
    {
     "name": "stdout",
     "output_type": "stream",
     "text": [
      "Sign test:\n",
      " Gross conversion: success = 6   total = 23\n",
      " The chance of observing 6 or more successes, or  17  or fewer successes, in 23 trials is:\n",
      " Two-tailed P value: 0.0347\n",
      " Net conversion: success = 9   total = 23\n",
      " The chance of observing 9 or more successes, or  14  or fewer successes, in 23 trials is:\n",
      " Two-tailed P value: 0.4049\n"
     ]
    }
   ],
   "source": [
    "# Supporting calculation of successful events for the evaluation metrics \n",
    "\n",
    "print (\"Sign test:\")\n",
    "\n",
    "Gross_conversion_success = experiment_data2['Enrollments']/experiment_data2['Clicks'] \\\n",
    ">control_data2['Enrollments']/control_data2['Clicks']\n",
    "print (\" Gross conversion: success =\", Gross_conversion_success.sum(), \"  total =\", Gross_conversion_success.size)\n",
    "print(' The chance of observing',Gross_conversion_success.sum() , \n",
    "      'or more successes, or ',23-Gross_conversion_success.sum(),\n",
    "      ' or fewer successes, in 23 trials is:\\n Two-tailed P value: 0.0347')\n",
    "\n",
    "Net_conversion_success = experiment_data2['Payments']/experiment_data2['Clicks'] \\\n",
    ">control_data2['Payments']/control_data2['Clicks']\n",
    "print (\" Net conversion: success =\", Net_conversion_success.sum(), \"  total =\", Net_conversion_success.size)\n",
    "print(' The chance of observing',Net_conversion_success.sum() , \n",
    "      'or more successes, or ',23-Net_conversion_success.sum(),\n",
    "      ' or fewer successes, in 23 trials is:\\n Two-tailed P value: 0.4049')"
   ]
  },
  {
   "cell_type": "markdown",
   "metadata": {},
   "source": [
    "### Follow-Up Analysis"
   ]
  },
  {
   "cell_type": "markdown",
   "metadata": {},
   "source": [
    "#### Result Analysis -> Retention"
   ]
  },
  {
   "cell_type": "code",
   "execution_count": 24,
   "metadata": {},
   "outputs": [
    {
     "name": "stdout",
     "output_type": "stream",
     "text": [
      "0 ∉ (-0.08066989681212079, -0.034535521226287544)\n",
      "(-0.01, 0, 0.01) ⊄ (-0.08066989681212079, -0.034535521226287544)\n",
      "Statistical significance ✓   Practical significance  ✓\n"
     ]
    }
   ],
   "source": [
    "# Analyze for evaluation metrics \"Retention\" on available data\n",
    "\n",
    "p_pool = 1.0 * (Payments_cont + Payments_exp) / (Enrollments_cont + Enrollments_exp)\n",
    "se_pool = math.sqrt(p_pool * (1 - p_pool) * (1.0 / Enrollments_cont + 1.0 / Enrollments_exp))\n",
    "m_pool = se_pool * 1.96\n",
    "d = Payments_cont / Enrollments_cont - Payments_exp / Enrollments_exp\n",
    "(lb_pool, ub_pool) = (d - m_pool, d + m_pool)\n",
    "\n",
    "print (0, u'\\u2209', (lb_pool, ub_pool))\n",
    "print ((-0.01, 0, 0.01), u'\\u2284', (lb_pool, ub_pool))\n",
    "print (\"Statistical significance\", u'\\u2713', \"  Practical significance \", u'\\u2713')"
   ]
  },
  {
   "cell_type": "markdown",
   "metadata": {},
   "source": [
    "#### Sign test -> Retention"
   ]
  },
  {
   "cell_type": "code",
   "execution_count": 28,
   "metadata": {},
   "outputs": [
    {
     "name": "stdout",
     "output_type": "stream",
     "text": [
      "Sign test:\n",
      " success = 14   total = 23\n",
      " The chance of observing 14 or more successes, or  9  or fewer successes, in 23 trials is:\n",
      " Two-tailed P value: 0.4049 \n"
     ]
    }
   ],
   "source": [
    "print (\"Sign test:\")\n",
    "Retention_success = experiment_data2['Payments']/experiment_data2['Enrollments'] \\\n",
    ">control_data2['Payments']/control_data2['Enrollments']\n",
    "print (\" success =\", Retention_success.sum(), \"  total =\", Retention_success.size)\n",
    "print(' The chance of observing',Retention_success.sum() , \n",
    "      'or more successes, or ',23-Retention_success.sum(),\n",
    "      ' or fewer successes, in 23 trials is:\\n Two-tailed P value: 0.4049 ')"
   ]
  },
  {
   "cell_type": "markdown",
   "metadata": {},
   "source": [
    "### Summary\n",
    "\n",
    "#### Results Analysis\n",
    "\n",
    "- Gross Conversion Difference: \n",
    "\n",
    "95% CI: (0.0151, 0.03216) - ✅ Statistical significance, ✅ Practical significance\n",
    "\n",
    "- Retention Difference:\n",
    "\n",
    "95% CI: (-0.0807, -0.0345) - ✅ Statistical significance, ✅ Practical significance\n",
    "\n",
    "- Net Conversion Difference: \n",
    "\n",
    "95% CI: (-0.0054, 0.0081) - ❌ Statistical significance, ❌ Practical significance\n",
    "\n",
    "\n",
    "#### Sign Tests\n",
    "\n",
    "- Gross Conversion : \n",
    "\n",
    "Success = 6   Total = 23 Two-tailed P value: 0.0347 - ✅ Statistical significance\n",
    "\n",
    "- Retention:\n",
    "\n",
    "Success = 14   Total = 23 Two-tailed P value: 0.4049 - ❌ Statistical significance\n",
    "\n",
    "- Net Conversion: \n",
    "\n",
    "Success = 9   Total = 23 Two-tailed P value: 0.4049 - ❌ Statistical significance\n"
   ]
  },
  {
   "cell_type": "code",
   "execution_count": 32,
   "metadata": {},
   "outputs": [
    {
     "name": "stdout",
     "output_type": "stream",
     "text": [
      "Gross conversion difference\n",
      "Median:  -0.0336617699528024\n",
      "Mean:  -0.026018093753032923\n",
      "Retention difference\n",
      "Median:  0.01557489693082914\n",
      "Mean:  0.0706052627681826\n",
      "Net conversion difference\n",
      "Median:  -0.003957843187037013\n",
      "Mean:  -0.0006048057503616266\n"
     ]
    }
   ],
   "source": [
    "Gross_conversion_diff = experiment_data2['Enrollments']/experiment_data2['Clicks'] - \\\n",
    "control_data2['Enrollments']/control_data2['Clicks']\n",
    "print (\"Gross conversion difference\")\n",
    "print (\"Median: \", Gross_conversion_diff.median())\n",
    "print (\"Mean: \", Gross_conversion_diff.mean())\n",
    "\n",
    "Retention_diff = experiment_data2['Payments']/experiment_data2['Enrollments'] - \\\n",
    "control_data2['Payments']/control_data2['Enrollments']\n",
    "print (\"Retention difference\")\n",
    "print (\"Median: \", Retention_diff.median())\n",
    "print (\"Mean: \", Retention_diff.mean())\n",
    "\n",
    "Net_conversion_diff = experiment_data2['Payments']/experiment_data2['Clicks'] - \\\n",
    "control_data2['Payments']/control_data2['Clicks']\n",
    "print (\"Net conversion difference\")\n",
    "print (\"Median: \", Net_conversion_diff.median())\n",
    "print (\"Mean: \", Net_conversion_diff.mean())"
   ]
  },
  {
   "cell_type": "markdown",
   "metadata": {},
   "source": [
    "\n",
    "Effect size tests: Statistical significance of the difference between the control and experimental groups was checked by using the values of the **mean** \\\n",
    "Sign tests: The null hypothesis for the sign test is that the difference between **medians** is zero.\n",
    "\n",
    "As we can see, the mean and median vary considerably for the retention and it causes that two test results differ."
   ]
  },
  {
   "cell_type": "markdown",
   "metadata": {},
   "source": [
    "### Recommendation\n",
    "\n",
    "Launching the experiment change is not recommended, reasons as below: \n",
    "\n",
    "- Gross conversion: Gross conversion difference is practically significant and negative, which indicates the team could risk in revenue drop. \n",
    " \n",
    "- Retention: The retention difference is practically significant and positive. However, the sign test does not agree with the confidence interval for the difference. On the other hand, we have not gathered enough data to draw conclusions about the retention and because of this the difference between the control and experimental groups is not convinced. \n",
    "\n",
    "- Net conversion: There is no significance observed on net conversion difference, and the 95% confident interval includes negaetive values, which is another sign of potential financial losses.\n"
   ]
  },
  {
   "cell_type": "code",
   "execution_count": null,
   "metadata": {},
   "outputs": [],
   "source": []
  }
 ],
 "metadata": {
  "kernelspec": {
   "display_name": "Python 3",
   "language": "python",
   "name": "python3"
  },
  "language_info": {
   "codemirror_mode": {
    "name": "ipython",
    "version": 3
   },
   "file_extension": ".py",
   "mimetype": "text/x-python",
   "name": "python",
   "nbconvert_exporter": "python",
   "pygments_lexer": "ipython3",
   "version": "3.7.4"
  }
 },
 "nbformat": 4,
 "nbformat_minor": 2
}
